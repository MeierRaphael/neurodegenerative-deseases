{
 "cells": [
  {
   "metadata": {
    "ExecuteTime": {
     "end_time": "2024-11-11T15:01:05.140303Z",
     "start_time": "2024-11-11T15:00:57.838790Z"
    }
   },
   "cell_type": "code",
   "source": [
    "import torch\n",
    "import torch.nn as nn\n",
    "import torch.optim as optim\n",
    "from src.model_helper import ModelHelper\n",
    "from src import load_data as ld"
   ],
   "id": "9720fb76ffe0aeb9",
   "outputs": [],
   "execution_count": 1
  },
  {
   "metadata": {
    "ExecuteTime": {
     "end_time": "2024-11-11T15:01:05.170851Z",
     "start_time": "2024-11-11T15:01:05.162707Z"
    }
   },
   "cell_type": "code",
   "source": "print('Hello')",
   "id": "656dd19294d088e9",
   "outputs": [
    {
     "name": "stdout",
     "output_type": "stream",
     "text": [
      "Hello\n"
     ]
    }
   ],
   "execution_count": 2
  },
  {
   "metadata": {
    "ExecuteTime": {
     "end_time": "2024-11-11T15:01:05.506989Z",
     "start_time": "2024-11-11T15:01:05.454379Z"
    }
   },
   "cell_type": "code",
   "source": [
    "dataset = ld.load_dataset('data')\n",
    "device = torch.device('cuda' if torch.cuda.is_available() else 'cpu')\n",
    "if not torch.cuda.is_available():\n",
    "    print(\"Cuda isn't available!\")"
   ],
   "id": "c29ba2a1604137a",
   "outputs": [
    {
     "name": "stdout",
     "output_type": "stream",
     "text": [
      "Cuda isn't available!\n"
     ]
    }
   ],
   "execution_count": 3
  },
  {
   "cell_type": "code",
   "id": "initial_id",
   "metadata": {
    "collapsed": true,
    "ExecuteTime": {
     "end_time": "2024-11-11T15:01:06.098864Z",
     "start_time": "2024-11-11T15:01:05.542796Z"
    }
   },
   "source": [
    "class CNNModel(nn.Module):\n",
    "    def __init__(self, num_classes=3):  # 3 Klassen: normal, Alzheimer, Parkinson\n",
    "        super(CNNModel, self).__init__()\n",
    "        self.layers = nn.Sequential(\n",
    "            # Convolutional-Schicht: 3 Eingabekanäle (RGB), 16 Filter, 5x5 Kernel\n",
    "            nn.Conv2d(3, 32, kernel_size=5, stride=1, padding=2),\n",
    "            nn.ReLU(),\n",
    "            nn.MaxPool2d(kernel_size=2, stride=2),\n",
    "            \n",
    "            # Convolutional-Schicht: 16 Eingabekanäle, 32 Filter, 3x3 Kernel\n",
    "            nn.Conv2d(32, 64, kernel_size=3, stride=1, padding=1),\n",
    "            nn.ReLU(),\n",
    "            nn.MaxPool2d(kernel_size=2, stride=2),\n",
    "            \n",
    "            nn.Flatten(),\n",
    "            \n",
    "            # Fully Connected-Schicht\n",
    "            nn.Linear(64 * 56 * 56, 256),\n",
    "            nn.ReLU(),\n",
    "            nn.Dropout(0.5),  # Dropout für Regularisierung\n",
    "            \n",
    "            # Fully Connected-Schicht, die zu Klassen führt\n",
    "            nn.Linear(256, num_classes)\n",
    "        )\n",
    "\n",
    "    def forward(self, x):\n",
    "        return self.layers(x)\n",
    "\n",
    "model = CNNModel()"
   ],
   "outputs": [],
   "execution_count": 4
  },
  {
   "metadata": {
    "ExecuteTime": {
     "end_time": "2024-11-11T15:01:06.132197Z",
     "start_time": "2024-11-11T15:01:06.116519Z"
    }
   },
   "cell_type": "code",
   "source": [
    "model.to(device)\n",
    "\n",
    "mHelper = ModelHelper(model, dataset, device, model_name=\"CNN Simple\")\n",
    "\n",
    "optimizer = optim.Adam(mHelper.model.parameters(), lr=0.001) \n",
    "criterion = torch.nn.CrossEntropyLoss()"
   ],
   "id": "69e4cd95b07faab8",
   "outputs": [],
   "execution_count": 5
  },
  {
   "metadata": {
    "ExecuteTime": {
     "end_time": "2024-11-11T15:01:06.163756Z",
     "start_time": "2024-11-11T15:01:06.151226Z"
    }
   },
   "cell_type": "code",
   "source": "print(\"Hello\")",
   "id": "c4e58d39305e9fe4",
   "outputs": [
    {
     "name": "stdout",
     "output_type": "stream",
     "text": [
      "Hello\n"
     ]
    }
   ],
   "execution_count": 6
  },
  {
   "metadata": {
    "jupyter": {
     "is_executing": true
    },
    "ExecuteTime": {
     "start_time": "2024-11-11T15:01:06.301275Z"
    }
   },
   "cell_type": "code",
   "source": "history = mHelper.train_model(criterion, optimizer)",
   "id": "e4dcc18924f0d4b6",
   "outputs": [
    {
     "name": "stdout",
     "output_type": "stream",
     "text": [
      "Device: cpu\n",
      "Epoch [1/20]\n",
      "----------\n"
     ]
    }
   ],
   "execution_count": null
  },
  {
   "metadata": {},
   "cell_type": "code",
   "outputs": [],
   "execution_count": null,
   "source": "",
   "id": "6e1fb726a230be2e"
  }
 ],
 "metadata": {
  "kernelspec": {
   "display_name": "Python 3",
   "language": "python",
   "name": "python3"
  },
  "language_info": {
   "codemirror_mode": {
    "name": "ipython",
    "version": 2
   },
   "file_extension": ".py",
   "mimetype": "text/x-python",
   "name": "python",
   "nbconvert_exporter": "python",
   "pygments_lexer": "ipython2",
   "version": "2.7.6"
  }
 },
 "nbformat": 4,
 "nbformat_minor": 5
}
