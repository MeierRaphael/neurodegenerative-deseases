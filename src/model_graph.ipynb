{
 "cells": [
  {
   "metadata": {
    "ExecuteTime": {
     "end_time": "2024-11-10T15:02:46.129791Z",
     "start_time": "2024-11-10T15:02:46.066688Z"
    }
   },
   "cell_type": "code",
   "source": [
    "from graphviz import Digraph\n",
    "from colors import colors_light, colors_light_transparent"
   ],
   "id": "9f30818ab47b9171",
   "outputs": [],
   "execution_count": 1
  },
  {
   "metadata": {
    "ExecuteTime": {
     "end_time": "2024-11-10T15:02:46.160884Z",
     "start_time": "2024-11-10T15:02:46.146030Z"
    }
   },
   "cell_type": "code",
   "source": "\"\"\"CNN Simple\"\"\"",
   "id": "270fb1c9dca36e5a",
   "outputs": [
    {
     "data": {
      "text/plain": [
       "'CNN Simple'"
      ]
     },
     "execution_count": 2,
     "metadata": {},
     "output_type": "execute_result"
    }
   ],
   "execution_count": 2
  },
  {
   "metadata": {
    "ExecuteTime": {
     "end_time": "2024-11-10T15:02:52.107186Z",
     "start_time": "2024-11-10T15:02:47.126245Z"
    }
   },
   "cell_type": "code",
   "source": [
    "\"\"\"CNN Complex\"\"\"\n",
    "\n",
    "dot = Digraph(comment=\"CNN Complex\")\n",
    "\n",
    "dot.attr(label=\"CNN Complex\", labelloc=\"t\", style=\"bold\", fontsize=\"20\", rankdir=\"TB\", splines=\"false\")\n",
    "\n",
    "dot.node(\"Input\", \"Input (Image)\", shape=\"ellipse\", color=colors_light['gray'], style=\"filled\", fillcolor=colors_light_transparent['gray'])\n",
    "dot.node(\"Output\", \"Output (Classification)\", shape=\"ellipse\", color=colors_light['gray'], style=\"filled\", fillcolor=colors_light_transparent['gray'])\n",
    "\n",
    "dot.node(\"CNNLayers\", \"CNN Layers\", shape=\"box\", color=colors_light['green'], style=\"filled\", fillcolor=colors_light_transparent['green'])\n",
    "with dot.subgraph(name=\"cluster_cnn_details\") as c:\n",
    "    c.attr(label=\"CNN Layers\", color=colors_light['gray'], style=\"dashed\", fontsize=\"15\")\n",
    "    c.node(\"Conv1\", \"Conv2d (3, 16, 3x3)\\n+ ReLU + MaxPool2d (2x2)\", shape=\"box\", color=colors_light['green'], style=\"filled\", fillcolor=colors_light_transparent['green'])\n",
    "    c.node(\"Conv2\", \"Conv2d (16, 32, 3x3)\\n + ReLU + MaxPool2d (2x2)\", shape=\"box\", color=colors_light['green'], style=\"filled\", fillcolor=colors_light_transparent['green'])\n",
    "    c.node(\"Conv3\", \"Conv2d (32, 64, 3x3)\\n+ ReLU + MaxPool2d (2x2)\", shape=\"box\", color=colors_light['green'], style=\"filled\", fillcolor=colors_light_transparent['green'])\n",
    "\n",
    "dot.node(\"Flatten\", \"Flatten Layer\", shape=\"box\", color=colors_light['peach'], style=\"filled\", fillcolor=colors_light_transparent['peach'])\n",
    "dot.node(\"FC1\", \"Fully Connected\\n(512 units)\", shape=\"box\", color=colors_light['peach'], style=\"filled\", fillcolor=colors_light_transparent['peach'])\n",
    "dot.node(\"Dropout\", \"Dropout\\n(0.5)\", shape=\"box\", color=colors_light['peach'], style=\"filled\", fillcolor=colors_light_transparent['peach'])\n",
    "dot.node(\"FC2\", \"Fully Connected\\n(3 classes)\", shape=\"box\", color=colors_light['peach'], style=\"filled\", fillcolor=colors_light_transparent['peach'])\n",
    "\n",
    "dot.edge(\"Input\", \"CNNLayers\")\n",
    "dot.edge(\"CNNLayers\", \"Flatten\")\n",
    "dot.edge(\"CNNLayers\", \"Conv1\", style=\"dashed\", constraint=\"false\")\n",
    "dot.edge(\"Flatten\", \"FC1\")\n",
    "dot.edge(\"FC1\", \"Dropout\")\n",
    "dot.edge(\"Dropout\", \"FC2\")\n",
    "dot.edge(\"FC2\", \"Output\")\n",
    "\n",
    "dot.edge(\"Conv1\", \"Conv2\", style=\"dashed\")\n",
    "dot.edge(\"Conv2\", \"Conv3\", style=\"dashed\")\n",
    "\n",
    "dot.render(\"../images/model_graph/cnn_model_graph\", format=\"png\", view=True)"
   ],
   "id": "43310a769a116dfc",
   "outputs": [
    {
     "data": {
      "text/plain": [
       "'..\\\\images\\\\model_graph\\\\cnn_model_graph.png'"
      ]
     },
     "execution_count": 3,
     "metadata": {},
     "output_type": "execute_result"
    }
   ],
   "execution_count": 3
  },
  {
   "metadata": {
    "ExecuteTime": {
     "end_time": "2024-11-10T15:02:52.237003Z",
     "start_time": "2024-11-10T15:02:52.225480Z"
    }
   },
   "cell_type": "code",
   "source": "\"\"\"ResNet\"\"\"",
   "id": "2ecd95240705e278",
   "outputs": [
    {
     "data": {
      "text/plain": [
       "'ResNet'"
      ]
     },
     "execution_count": 4,
     "metadata": {},
     "output_type": "execute_result"
    }
   ],
   "execution_count": 4
  },
  {
   "metadata": {
    "ExecuteTime": {
     "end_time": "2024-11-10T15:02:53.950152Z",
     "start_time": "2024-11-10T15:02:52.383012Z"
    }
   },
   "cell_type": "code",
   "source": [
    "\"\"\"ViT\"\"\"\n",
    "\n",
    "dot = Digraph(comment=\"ViTForImageClassification\")\n",
    "\n",
    "dot.attr(label=\"ViT\", labelloc=\"t\", style=\"bold\", fontsize=\"20\", rankdir=\"TB\", splines=\"false\")\n",
    "\n",
    "dot.node(\"Input\", \"Input (Image)\", shape=\"ellipse\", color=colors_light['gray'], style=\"filled\", fillcolor=colors_light_transparent['gray'])\n",
    "dot.node(\"Output\", \"Output (Classification)\", shape=\"ellipse\", color=colors_light['gray'], style=\"filled\", fillcolor=colors_light_transparent['gray'])\n",
    "\n",
    "dot.node(\"LinearClassifier\", \"Linear Classifier\", shape=\"box\", color=colors_light['peach'], style=\"filled\", fillcolor=colors_light_transparent['peach'])\n",
    "\n",
    "with dot.subgraph(name=\"cluster_vit_model\") as c:\n",
    "    c.attr(label=\"ViTModel\", color=colors_light['gray'], style=\"solid\",  labeljust=\"l\", fontsize=\"15\")\n",
    "    c.node(\"ViTEmbeddings\", \"ViTEmbeddings\", shape=\"box\", width=\"2\", style=\"filled\", color=colors_light['green'], fillcolor=colors_light_transparent['green'])\n",
    "    c.node(\"ViTEncoder\", \"ViTEncoder\", shape=\"box\", width=\"2\", style=\"filled\", color=colors_light['green'], fillcolor=colors_light_transparent['green'])\n",
    "    c.node(\"LayerNorm\", \"LayerNorm\", shape=\"box\", width=\"2\", style=\"filled\", color=colors_light['green'], fillcolor=colors_light_transparent['green'])\n",
    "\n",
    "    dot.edge(\"ViTEmbeddings\", \"ViTEncoder\")\n",
    "    dot.edge(\"ViTEncoder\", \"LayerNorm\")\n",
    "\n",
    "with dot.subgraph(name=\"cluster_vit_encoder\") as c:\n",
    "    c.attr(label=\"ViTEncoder\", color=colors_light['gray'], style=\"dashed\", fontsize=\"15\")\n",
    "    c.node(\"FrozenLayers\", \"ViTLayer 1-2 \\n(Frozen)\", shape=\"box\", height=\"0.33\", color=colors_light['green'], style=\"filled\", fillcolor=colors_light_transparent['green'])\n",
    "    c.node(\"TrainableLayers\", \"ViTLayer 3-12 \\n(Trainable)\", shape=\"box\", height=\"2\", color=colors_light['green'], style=\"filled\", fillcolor=colors_light_transparent['green'])\n",
    "\n",
    "    dot.edge(\"ViTEncoder\", \"FrozenLayers\", style=\"dashed\")\n",
    "    dot.edge(\"FrozenLayers\", \"TrainableLayers\", style=\"dashed\")\n",
    "\n",
    "dot.edge(\"Input\", \"ViTEmbeddings\")\n",
    "dot.edge(\"LayerNorm\", \"LinearClassifier\")\n",
    "dot.edge(\"LinearClassifier\", \"Output\")\n",
    "\n",
    "dot.render(\"../images/model_graph/vit_model_graph\", format=\"png\", view=True)"
   ],
   "id": "7c000c17a729df7e",
   "outputs": [
    {
     "data": {
      "text/plain": [
       "'..\\\\images\\\\model_graph\\\\vit_model_graph.png'"
      ]
     },
     "execution_count": 5,
     "metadata": {},
     "output_type": "execute_result"
    }
   ],
   "execution_count": 5
  },
  {
   "metadata": {
    "ExecuteTime": {
     "end_time": "2024-11-10T15:03:52.439361Z",
     "start_time": "2024-11-10T15:03:52.275030Z"
    }
   },
   "cell_type": "code",
   "source": [
    "from PIL import Image\n",
    "\n",
    "vit_image = Image.open(\"../images/model_graph/vit_model_graph.png\")\n",
    "cnn_image = Image.open(\"../images/model_graph/cnn_model_graph.png\")\n",
    "\n",
    "vit_width, vit_height = vit_image.size\n",
    "cnn_width, cnn_height = cnn_image.size\n",
    "\n",
    "combined_width = vit_width + cnn_width\n",
    "combined_height = max(vit_height, cnn_height)\n",
    "\n",
    "combined_image = Image.new(\"RGB\", (combined_width, combined_height), (255, 255, 255))\n",
    "\n",
    "combined_image.paste(vit_image, (0, 0))\n",
    "combined_image.paste(cnn_image, (vit_width, 0))\n",
    "\n",
    "combined_image.save(\"../images/model_graph/combined_model_graph.png\")\n",
    "combined_image.show()"
   ],
   "id": "8cf3047c2dec34a9",
   "outputs": [],
   "execution_count": 9
  }
 ],
 "metadata": {
  "kernelspec": {
   "display_name": "Python 3",
   "language": "python",
   "name": "python3"
  },
  "language_info": {
   "codemirror_mode": {
    "name": "ipython",
    "version": 2
   },
   "file_extension": ".py",
   "mimetype": "text/x-python",
   "name": "python",
   "nbconvert_exporter": "python",
   "pygments_lexer": "ipython2",
   "version": "2.7.6"
  }
 },
 "nbformat": 4,
 "nbformat_minor": 5
}
